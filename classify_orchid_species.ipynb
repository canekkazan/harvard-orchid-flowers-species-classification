{
  "nbformat": 4,
  "nbformat_minor": 0,
  "metadata": {
    "colab": {
      "name": "classify_orchid_species.ipynb",
      "provenance": [],
      "collapsed_sections": [],
      "mount_file_id": "1IgTVzWZ0f0tIexe_CqMCKUdq5fwUebn3",
      "authorship_tag": "ABX9TyN/AEy9orGed3fMNAMWaEz0",
      "include_colab_link": true
    },
    "kernelspec": {
      "name": "python3",
      "display_name": "Python 3"
    },
    "language_info": {
      "name": "python"
    },
    "accelerator": "GPU",
    "gpuClass": "standard"
  },
  "cells": [
    {
      "cell_type": "markdown",
      "metadata": {
        "id": "view-in-github",
        "colab_type": "text"
      },
      "source": [
        "<a href=\"https://colab.research.google.com/github/canekkazan/harvard-orchid-flowers-species-classification/blob/main/classify_orchid_species.ipynb\" target=\"_parent\"><img src=\"https://colab.research.google.com/assets/colab-badge.svg\" alt=\"Open In Colab\"/></a>"
      ]
    },
    {
      "cell_type": "code",
      "execution_count": null,
      "metadata": {
        "id": "UYVSGsqMoIvi"
      },
      "outputs": [],
      "source": [
        "import os\n",
        "import cv2\n",
        "import numpy as np\n",
        "import pandas as pd\n",
        "import tensorflow as tf\n",
        "import matplotlib.pyplot as plt\n",
        "from keras.preprocessing.image import ImageDataGenerator\n",
        "\n",
        "from tensorflow import keras\n",
        "from tensorflow.keras import optimizers\n",
        "from tensorflow.keras.models import Sequential\n",
        "from tensorflow.keras.layers import Dense, Dropout, Activation, Flatten, Conv2D, MaxPooling2D\n"
      ]
    },
    {
      "cell_type": "code",
      "source": [
        "!unzip '/content/drive/MyDrive/Datasets/Orchid Flowers Dataset-v1.1.zip'"
      ],
      "metadata": {
        "id": "3fZO2M_4oR8y"
      },
      "execution_count": null,
      "outputs": []
    },
    {
      "cell_type": "code",
      "source": [
        "train_df = pd.read_csv('/content/Orchid Flowers Dataset-v1.1/Species_Classifier/Training_Data_for_Species.txt',header = None,dtype=str)\n",
        "valid_df = pd.read_csv('/content/Orchid Flowers Dataset-v1.1/Species_Classifier/Validation_Data_for_Species.txt',header = None,dtype=str)\n",
        "test_df = pd.read_csv('/content/Orchid Flowers Dataset-v1.1/Species_Classifier/Testing_Data_for_Species.txt',header = None,dtype=str)\n",
        "\n",
        "\n",
        "columns = ['Image_name', 'Species']\n",
        "train_df.columns = columns\n",
        "valid_df.columns = columns\n",
        "test_df.columns = columns"
      ],
      "metadata": {
        "id": "3jEm1a4PopVj"
      },
      "execution_count": null,
      "outputs": []
    },
    {
      "cell_type": "code",
      "source": [
        "# Augment with rotated, shifted, flipped, images\n",
        "\n",
        "train_datagen = ImageDataGenerator(\n",
        "    rescale=1./255,\n",
        "    featurewise_center=True,\n",
        "    featurewise_std_normalization=True,\n",
        "    rotation_range=40,\n",
        "    width_shift_range=0.2,\n",
        "    height_shift_range=0.2,\n",
        "    shear_range=0.2,\n",
        "    zoom_range=0.2,\n",
        "    horizontal_flip=True,\n",
        "    fill_mode='nearest'\n",
        ")\n",
        "\n",
        "data_gen = train_datagen = ImageDataGenerator(\n",
        "    rescale=1./255,\n",
        ")   "
      ],
      "metadata": {
        "id": "ixd4xrGr7wvQ"
      },
      "execution_count": null,
      "outputs": []
    },
    {
      "cell_type": "code",
      "source": [
        "batch_size = 64"
      ],
      "metadata": {
        "id": "amQO9g1pBVuM"
      },
      "execution_count": null,
      "outputs": []
    },
    {
      "cell_type": "code",
      "source": [
        "train_generator=train_datagen.flow_from_dataframe(\n",
        "dataframe=train_df,\n",
        "directory=\"Orchid_Images\",\n",
        "x_col=\"Image_name\",\n",
        "y_col=\"Species\",\n",
        "subset=None,\n",
        "batch_size=batch_size,\n",
        "seed=123,\n",
        "shuffle=True,\n",
        "class_mode=\"sparse\",\n",
        "save_format=\"png\",\n",
        "target_size=(32,32),\n",
        "validate_filenames=False)\n",
        "\n",
        "valid_generator=data_gen.flow_from_dataframe(\n",
        "dataframe=valid_df,\n",
        "directory=\"Orchid_Images\",\n",
        "x_col=\"Image_name\",\n",
        "y_col=\"Species\",\n",
        "subset=None,\n",
        "batch_size=batch_size,\n",
        "seed=123,\n",
        "shuffle=True,\n",
        "save_format=\"png\",\n",
        "class_mode=\"sparse\",\n",
        "target_size=(32,32),\n",
        "validate_filenames=False)\n",
        "\n",
        "test_generator=data_gen.flow_from_dataframe(\n",
        "dataframe=test_df,\n",
        "directory=\"Orchid_Images\",\n",
        "x_col=\"Image_name\",\n",
        "y_col=\"Species\",\n",
        "subset=None,\n",
        "batch_size=batch_size,\n",
        "seed=123,\n",
        "shuffle=True,\n",
        "save_format=\"png\",\n",
        "class_mode=\"sparse\",\n",
        "target_size=(32,32),\n",
        "validate_filenames=False)\n"
      ],
      "metadata": {
        "colab": {
          "base_uri": "https://localhost:8080/"
        },
        "id": "_iIHyq238lEV",
        "outputId": "497a0809-ceb0-4d6e-9ead-411eed389afd"
      },
      "execution_count": null,
      "outputs": [
        {
          "output_type": "stream",
          "name": "stdout",
          "text": [
            "Found 5119 non-validated image filenames belonging to 156 classes.\n",
            "Found 1235 non-validated image filenames belonging to 156 classes.\n",
            "Found 802 non-validated image filenames belonging to 156 classes.\n"
          ]
        }
      ]
    },
    {
      "cell_type": "code",
      "source": [
        "#Define model\n",
        "model = Sequential()\n",
        "\n",
        "model.add(Conv2D(64, (3, 3), padding='same', input_shape=(32,32,3)))\n",
        "model.add(Activation('relu'))\n",
        "\n",
        "model.add(Conv2D(64,(5, 5)))\n",
        "model.add(Activation('relu'))\n",
        "\n",
        "model.add(Conv2D(32, (7, 7), padding='same'))\n",
        "model.add(Activation('relu'))\n",
        "\n",
        "model.add(Flatten())\n",
        "\n",
        "model.add(Dense(256))\n",
        "model.add(Activation('relu'))\n",
        "\n",
        "model.add(Dense(256))\n",
        "model.add(Activation('relu'))\n",
        "model.add(Dropout(0.2))\n",
        "\n",
        "model.add(Dense(156))\n",
        "model.add(Activation('softmax'))\n",
        "\n",
        "model.summary()\n"
      ],
      "metadata": {
        "colab": {
          "base_uri": "https://localhost:8080/"
        },
        "id": "uVCH4cxQAipP",
        "outputId": "2bfd0aea-666c-4929-c398-41b0ea58acf3"
      },
      "execution_count": null,
      "outputs": [
        {
          "output_type": "stream",
          "name": "stdout",
          "text": [
            "Model: \"sequential_1\"\n",
            "_________________________________________________________________\n",
            " Layer (type)                Output Shape              Param #   \n",
            "=================================================================\n",
            " conv2d_3 (Conv2D)           (None, 32, 32, 64)        1792      \n",
            "                                                                 \n",
            " activation_6 (Activation)   (None, 32, 32, 64)        0         \n",
            "                                                                 \n",
            " conv2d_4 (Conv2D)           (None, 28, 28, 64)        102464    \n",
            "                                                                 \n",
            " activation_7 (Activation)   (None, 28, 28, 64)        0         \n",
            "                                                                 \n",
            " conv2d_5 (Conv2D)           (None, 28, 28, 32)        100384    \n",
            "                                                                 \n",
            " activation_8 (Activation)   (None, 28, 28, 32)        0         \n",
            "                                                                 \n",
            " flatten_1 (Flatten)         (None, 25088)             0         \n",
            "                                                                 \n",
            " dense_3 (Dense)             (None, 256)               6422784   \n",
            "                                                                 \n",
            " activation_9 (Activation)   (None, 256)               0         \n",
            "                                                                 \n",
            " dense_4 (Dense)             (None, 256)               65792     \n",
            "                                                                 \n",
            " activation_10 (Activation)  (None, 256)               0         \n",
            "                                                                 \n",
            " dropout_1 (Dropout)         (None, 256)               0         \n",
            "                                                                 \n",
            " dense_5 (Dense)             (None, 156)               40092     \n",
            "                                                                 \n",
            " activation_11 (Activation)  (None, 156)               0         \n",
            "                                                                 \n",
            "=================================================================\n",
            "Total params: 6,733,308\n",
            "Trainable params: 6,733,308\n",
            "Non-trainable params: 0\n",
            "_________________________________________________________________\n"
          ]
        }
      ]
    },
    {
      "cell_type": "code",
      "source": [
        "model.compile(loss=\"sparse_categorical_crossentropy\",\n",
        "              optimizer='adam',\n",
        "              metrics=[\"accuracy\"])"
      ],
      "metadata": {
        "id": "N6hghzrkBAIW"
      },
      "execution_count": null,
      "outputs": []
    },
    {
      "cell_type": "code",
      "source": [
        "STEP_SIZE_TRAIN=train_generator.n//train_generator.batch_size\n",
        "STEP_SIZE_VALID=valid_generator.n//valid_generator.batch_size"
      ],
      "metadata": {
        "id": "kOisOAzHBPji"
      },
      "execution_count": null,
      "outputs": []
    },
    {
      "cell_type": "code",
      "source": [
        "history = model.fit_generator(generator=train_generator,\n",
        "                    steps_per_epoch=STEP_SIZE_TRAIN,\n",
        "                    validation_data=valid_generator,\n",
        "                    validation_steps=STEP_SIZE_VALID,\n",
        "                    epochs=50\n",
        ")"
      ],
      "metadata": {
        "id": "xAEieMEWBtyZ"
      },
      "execution_count": null,
      "outputs": []
    },
    {
      "cell_type": "code",
      "source": [
        ""
      ],
      "metadata": {
        "id": "MvdIlWtj3_6O"
      },
      "execution_count": null,
      "outputs": []
    }
  ]
}